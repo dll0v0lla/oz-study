{
 "cells": [
  {
   "attachments": {
    "image.png": {
     "image/png": "[encoded data removed]"
    }
   },
   "cell_type": "markdown",
   "metadata": {},
   "source": [
    "\n",
    "[문제 설명]\n",
    "```\n",
    "새로 생긴 놀이기구는 인기가 매우 많아 줄이 끊이질 않습니다. \n",
    "이 놀이기구의 원래 이용료는 price원 인데, 놀이기구를 N 번 째 이용한다면 원래 이용료의 N배를 받기로 하였습니다. \n",
    "\n",
    "즉, 처음 이용료가 100이었다면 2번째에는 200, 3번째에는 300으로 요금이 인상됩니다.\n",
    "\n",
    "놀이기구를 count번 타게 되면 현재 자신이 가지고 있는 금액에서 얼마가 모자라는지를 return 하도록 solution 함수를 완성하세요.\n",
    "단, 금액이 부족하지 않으면 0을 return 하세요.\n",
    "```\n",
    "\n",
    "제한사항\n",
    "- 놀이기구의 이용료 price : 1 ≤ price ≤ 2,500, price는 자연수\n",
    "- 처음 가지고 있던 금액 money : 1 ≤ money ≤ 1,000,000,000, money는 자연수\n",
    "- 놀이기구의 이용 횟수 count : 1 ≤ count ≤ 2,500, count는 자연수\n",
    "\n",
    "[입출력 예]\n",
    "\n",
    "![image.png](attachment:image.png)\n",
    "\n",
    "[입출력 예 설명]\n",
    "\n",
    "입출력 예 #1<br>\n",
    "이용금액이 3인 놀이기구를 4번 타고 싶은 고객이 현재 가진 금액이 20이라면, 총 필요한 놀이기구의 이용 금액은 30 (= 3+6+9+12) 이 되어 10만큼 부족하므로 10을 return 합니다."
   ]
  },
  {
   "cell_type": "code",
   "execution_count": 1,
   "metadata": {},
   "outputs": [
    {
     "name": "stdout",
     "output_type": "stream",
     "text": [
      "10\n"
     ]
    }
   ],
   "source": [
    "def solution(price, money, count):\n",
    "  \n",
    "    return \n",
    "\n",
    "print(solution(3, 20, 4))"
   ]
  },
  {
   "cell_type": "code",
   "execution_count": 9,
   "metadata": {},
   "outputs": [
    {
     "name": "stdout",
     "output_type": "stream",
     "text": [
      "10\n"
     ]
    }
   ],
   "source": [
    "def solution(price, money, count):\n",
    "    # 등차수열...의 합을 구해서 필요한 돈을 구하고\n",
    "    total_price = price * count * (count + 1) // 2\n",
    "    \n",
    "    # 필요한 돈에서 내 돈을 빼고, 부족한 돈이 얼마인지 계산\n",
    "    # 돈이 안 부족하면 0을 리턴\n",
    "    answer = (total_price - money \n",
    "              if total_price > money\n",
    "              else 0)\n",
    "    \n",
    "    # (abs 방금 들은 함수) answer의 절대값을 반환 (부족한 경우에는 음수가 될 수도 있으므로, 근데 내가 짠 코드는 필요없을 거 같음)\n",
    "    return abs(answer)\n",
    "\n",
    "print(solution(3, 20, 4))"
   ]
  },
  {
   "attachments": {
    "image.png": {
     "image/png": "[encoded data removed]"
    }
   },
   "cell_type": "markdown",
   "metadata": {},
   "source": [
    "![image.png](attachment:image.png)"
   ]
  }
 ],
 "metadata": {
  "kernelspec": {
   "display_name": "Python 3",
   "language": "python",
   "name": "python3"
  },
  "language_info": {
   "codemirror_mode": {
    "name": "ipython",
    "version": 3
   },
   "file_extension": ".py",
   "mimetype": "text/x-python",
   "name": "python",
   "nbconvert_exporter": "python",
   "pygments_lexer": "ipython3",
   "version": "3.12.2"
  }
 },
 "nbformat": 4,
 "nbformat_minor": 2
}
